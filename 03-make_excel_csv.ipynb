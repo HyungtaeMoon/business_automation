{
 "cells": [
  {
   "cell_type": "markdown",
   "metadata": {},
   "source": [
    "## CSV/엑셀 파일 만들기"
   ]
  },
  {
   "cell_type": "markdown",
   "metadata": {},
   "source": [
    "- Plain text 파일로 다양한 인코딩으로 작성이 가능\n",
    "- 즉, 표 형식의 데이터를 Plain Text 로 쉽게 생성이 가능(파일 크기 작음)\n",
    "- 거의 대부분의 프로그래밍 언어나, 데이터분석 프로그램에서 CSV 파일을 지원(Pandas, 엑셀, Github 등)"
   ]
  },
  {
   "cell_type": "code",
   "execution_count": 1,
   "metadata": {},
   "outputs": [],
   "source": [
    "import csv # 파이썬 내장 라이브러리\n",
    "\n",
    "rows = [\n",
    "    ['월요웹툰', '화요웹툰', '수요웹툰', '목요웹툰', '금요웹툰', '토요웹툰', '일요웹툰'],\n",
    "    ['신의 탑', '마음의소리', '고수', '기기괴괴', '덴마', '호랑이형님', '열럽전사'],\n",
    "    ['귀전구담', '노블레스', '퍼미스미션', '하루 3컷', '테러맨', '부활남', '다이스'],\n",
    "    ['히어로메이커', '하이브', 'DEY 호러채널', '마술사', '오즈랜드', '유미의세포들', '조선왕조실톡'],\n",
    "]\n",
    "with open('webtoon.csv', 'wt', encoding='utf8') as f:\n",
    "    writer = csv.writer(f)\n",
    "    writer.writerows(rows) # writerow 는 하나의 column 일때만"
   ]
  },
  {
   "cell_type": "code",
   "execution_count": 2,
   "metadata": {},
   "outputs": [
    {
     "name": "stdout",
     "output_type": "stream",
     "text": [
      "<class '_io.TextIOWrapper'>\n",
      "월요웹툰,화요웹툰,수요웹툰,목요웹툰,금요웹툰,토요웹툰,일요웹툰\n",
      "신의 탑,마음의소리,고수,기기괴괴,덴마,호랑이형님,열럽전사\n",
      "귀전구담,노블레스,퍼미스미션,하루 3컷,테러맨,부활남,다이스\n",
      "히어로메이커,하이브,DEY 호러채널,마술사,오즈랜드,유미의세포들,조선왕조실톡\n",
      "\n"
     ]
    }
   ],
   "source": [
    "with open('webtoon.csv', 'rt', encoding='utf-8') as f:\n",
    "    print(type(f))\n",
    "    print(f.read())"
   ]
  },
  {
   "cell_type": "markdown",
   "metadata": {},
   "source": [
    "## csv.DictWriter"
   ]
  },
  {
   "cell_type": "code",
   "execution_count": 3,
   "metadata": {},
   "outputs": [],
   "source": [
    "import csv\n",
    "\n",
    "with open('webtoon_dictwriter.csv', 'wt', encoding='utf-8') as f:\n",
    "    fieldnames = ['first_name', 'last_name']\n",
    "    writer = csv.DictWriter(f, fieldnames=fieldnames)\n",
    "    \n",
    "    writer.writeheader()\n",
    "    \n",
    "    # 1 Row 일 때\n",
    "    writer.writerow({'first_name': 'Backed', 'last_name': 'Beans'})\n",
    "    \n",
    "    # 다수의 Row 일 때\n",
    "    writer.writerows([\n",
    "        {'first_name': 'Lovely', 'last_name': 'Spam'},\n",
    "        {'first_name': 'wonderful', 'last_name': 'Spam'},\n",
    "    ])"
   ]
  },
  {
   "cell_type": "code",
   "execution_count": 4,
   "metadata": {},
   "outputs": [
    {
     "name": "stdout",
     "output_type": "stream",
     "text": [
      "first_name,last_name\n",
      "Backed,Beans\n",
      "Lovely,Spam\n",
      "wonderful,Spam\n",
      "\n"
     ]
    }
   ],
   "source": [
    "with open('webtoon_dictwriter.csv', 'rt', encoding='utf-8') as f:\n",
    "    print(f.read())"
   ]
  },
  {
   "cell_type": "markdown",
   "metadata": {},
   "source": [
    "## CSV 읽기"
   ]
  },
  {
   "cell_type": "code",
   "execution_count": 5,
   "metadata": {},
   "outputs": [
    {
     "name": "stdout",
     "output_type": "stream",
     "text": [
      "['월요웹툰', '화요웹툰', '수요웹툰', '목요웹툰', '금요웹툰', '토요웹툰', '일요웹툰\\n']\n",
      "['신의 탑', '마음의소리', '고수', '기기괴괴', '덴마', '호랑이형님', '열럽전사\\n']\n",
      "['귀전구담', '노블레스', '퍼미스미션', '하루 3컷', '테러맨', '부활남', '다이스\\n']\n",
      "['히어로메이커', '하이브', 'DEY 호러채널', '마술사', '오즈랜드', '유미의세포들', '조선왕조실톡\\n']\n"
     ]
    }
   ],
   "source": [
    "with open('webtoon.csv', 'rt') as f:\n",
    "    for line in f:\n",
    "        row = line.split(',')\n",
    "        print(row) # list type"
   ]
  },
  {
   "cell_type": "code",
   "execution_count": 6,
   "metadata": {},
   "outputs": [
    {
     "name": "stdout",
     "output_type": "stream",
     "text": [
      "['월요웹툰', '화요웹툰', '수요웹툰', '목요웹툰', '금요웹툰', '토요웹툰', '일요웹툰']\n",
      "['신의 탑', '마음의소리', '고수', '기기괴괴', '덴마', '호랑이형님', '열럽전사']\n",
      "['귀전구담', '노블레스', '퍼미스미션', '하루 3컷', '테러맨', '부활남', '다이스']\n",
      "['히어로메이커', '하이브', 'DEY 호러채널', '마술사', '오즈랜드', '유미의세포들', '조선왕조실톡']\n"
     ]
    }
   ],
   "source": [
    "import csv\n",
    "with open('webtoon.csv', 'rt') as f:\n",
    "    reader = csv.reader(f)\n",
    "    for row in reader:\n",
    "        print(row) # list type"
   ]
  },
  {
   "cell_type": "code",
   "execution_count": 7,
   "metadata": {},
   "outputs": [
    {
     "name": "stdout",
     "output_type": "stream",
     "text": [
      "OrderedDict([('first_name', 'Backed'), ('last_name', 'Beans')])\n",
      "OrderedDict([('first_name', 'Lovely'), ('last_name', 'Spam')])\n",
      "OrderedDict([('first_name', 'wonderful'), ('last_name', 'Spam')])\n"
     ]
    }
   ],
   "source": [
    "import csv\n",
    "\n",
    "with open('webtoon_dictwriter.csv', 'rt', encoding='utf8') as f:\n",
    "    #line = next(f)\n",
    "    #fieldnames = line.split(',')\n",
    "    reader = csv.DictReader(f)  #, fieldnames=fieldnames)\n",
    "    for row in reader:\n",
    "        print(row)  # list type"
   ]
  },
  {
   "cell_type": "markdown",
   "metadata": {},
   "source": [
    "\n",
    "\n"
   ]
  },
  {
   "cell_type": "markdown",
   "metadata": {},
   "source": [
    "\n"
   ]
  },
  {
   "cell_type": "markdown",
   "metadata": {},
   "source": [
    "### CSV 인코딩별 처리\n",
    "\n",
    "-------------------------------"
   ]
  },
  {
   "cell_type": "markdown",
   "metadata": {},
   "source": [
    "| 구분           | CP949     | UTF8(추천) | UTF8 BOM     |\n",
    "|----------------|-----------|------------|--------------|\n",
    "| 엑셀           | OK        | 옵션 지정  | OK           |\n",
    "| G 스프레드시트 | OK        | OK         | OK           |\n",
    "| Pandas         | 옵션 지정 | OK         | OK           |\n",
    "| Python         | 옵션 지정 | OK         | BOM 제거필요 |"
   ]
  },
  {
   "cell_type": "markdown",
   "metadata": {},
   "source": [
    "### 코드\n",
    "\n",
    "---------------------"
   ]
  },
  {
   "cell_type": "markdown",
   "metadata": {},
   "source": [
    "**Pandas 에서 CP949 인코딩의 CSV 읽기**\n",
    "```\n",
    "df = pandas.read_csv('cp949.csv', encoding='cp949') # DataFrame\n",
    "```\n",
    "\n",
    "**Python에서 CP949 인코딩의 CSV 읽기**\n",
    "```\n",
    "with open('cp949.csv', encoding='cp949') as f:\n",
    "    reader = csv.reader(f)\n",
    "\n",
    "```\n",
    "\n",
    "**Python에서 UTF8 BOM 읽기**\n",
    "```\n",
    "import csv\n",
    "import codecs\n",
    "\n",
    "with open('webtoon_utf8_with_bom.csv', 'rb') as f:\n",
    "    content = f.read()\n",
    "    if content.startwith(codecs.BOM_UTF8):\n",
    "        bom_size = len(codecs.BoM_UTF8)\n",
    "        content = content[bom_size:]\n",
    "    string = content.decode('utf8')\n",
    "    \n",
    "    reader = csv.reader(string.splitlines())\n",
    "    for line in reader:\n",
    "        print(line)\n",
    "```"
   ]
  },
  {
   "cell_type": "markdown",
   "metadata": {},
   "source": [
    "### codecs.BOM_UTF8"
   ]
  },
  {
   "cell_type": "code",
   "execution_count": 8,
   "metadata": {},
   "outputs": [
    {
     "data": {
      "text/plain": [
       "b'\\xef\\xbb\\xbf'"
      ]
     },
     "execution_count": 8,
     "metadata": {},
     "output_type": "execute_result"
    }
   ],
   "source": [
    "import codecs\n",
    "codecs.BOM_UTF8"
   ]
  },
  {
   "cell_type": "markdown",
   "metadata": {},
   "source": [
    "\n"
   ]
  },
  {
   "cell_type": "markdown",
   "metadata": {},
   "source": [
    "\n"
   ]
  },
  {
   "cell_type": "markdown",
   "metadata": {},
   "source": [
    "### tablib\n",
    "\n",
    "[바로가기](https://github.com/kennethreitz/tablib/)"
   ]
  },
  {
   "cell_type": "markdown",
   "metadata": {},
   "source": [
    "다양한 엑셀 지원 라이브러리\n",
    "\n",
    "- tablib\n",
    "\n",
    "- openpyxl\n",
    "\n",
    "- pyexcel\n",
    "\n",
    "- xlwt, xlrd"
   ]
  },
  {
   "cell_type": "code",
   "execution_count": 29,
   "metadata": {},
   "outputs": [],
   "source": [
    "rows = [\n",
    "    ['월요웹툰', '화요웹툰', '수요웹툰', '목요웹툰', '금요웹툰', '토요웹툰', '일요웹툰'],\n",
    "    ['신의 탑', '마음의소리', '고수', '기기괴괴', '덴마', '호랑이형님', '열럽전사'],\n",
    "    ['귀전구담', '노블레스', '퍼미스미션', '하루 3컷', '테러맨', '부활남', '다이스'],\n",
    "    ['히어로메이커', '하이브', 'DEY 호러채널', '마술사', '오즈랜드', '유미의세포들', '조선왕조실톡'],\n",
    "]\n",
    "\n",
    "import tablib\n",
    "data = tablib.Dataset()\n",
    "data.headers = rows[0]\n",
    "for row in rows[1:]:\n",
    "    data.append(row)"
   ]
  },
  {
   "cell_type": "code",
   "execution_count": 31,
   "metadata": {},
   "outputs": [
    {
     "data": {
      "text/plain": [
       "<dataset object>"
      ]
     },
     "execution_count": 31,
     "metadata": {},
     "output_type": "execute_result"
    }
   ],
   "source": [
    "data"
   ]
  },
  {
   "cell_type": "code",
   "execution_count": 35,
   "metadata": {},
   "outputs": [
    {
     "name": "stdout",
     "output_type": "stream",
     "text": [
      "[{\"\\uc6d4\\uc694\\uc6f9\\ud230\": \"\\uc2e0\\uc758 \\ud0d1\", \"\\ud654\\uc694\\uc6f9\\ud230\": \"\\ub9c8\\uc74c\\uc758\\uc18c\\ub9ac\", \"\\uc218\\uc694\\uc6f9\\ud230\": \"\\uace0\\uc218\", \"\\ubaa9\\uc694\\uc6f9\\ud230\": \"\\uae30\\uae30\\uad34\\uad34\", \"\\uae08\\uc694\\uc6f9\\ud230\": \"\\ub374\\ub9c8\", \"\\ud1a0\\uc694\\uc6f9\\ud230\": \"\\ud638\\ub791\\uc774\\ud615\\ub2d8\", \"\\uc77c\\uc694\\uc6f9\\ud230\": \"\\uc5f4\\ub7fd\\uc804\\uc0ac\"}, {\"\\uc6d4\\uc694\\uc6f9\\ud230\": \"\\uadc0\\uc804\\uad6c\\ub2f4\", \"\\ud654\\uc694\\uc6f9\\ud230\": \"\\ub178\\ube14\\ub808\\uc2a4\", \"\\uc218\\uc694\\uc6f9\\ud230\": \"\\ud37c\\ubbf8\\uc2a4\\ubbf8\\uc158\", \"\\ubaa9\\uc694\\uc6f9\\ud230\": \"\\ud558\\ub8e8 3\\ucef7\", \"\\uae08\\uc694\\uc6f9\\ud230\": \"\\ud14c\\ub7ec\\ub9e8\", \"\\ud1a0\\uc694\\uc6f9\\ud230\": \"\\ubd80\\ud65c\\ub0a8\", \"\\uc77c\\uc694\\uc6f9\\ud230\": \"\\ub2e4\\uc774\\uc2a4\"}, {\"\\uc6d4\\uc694\\uc6f9\\ud230\": \"\\ud788\\uc5b4\\ub85c\\uba54\\uc774\\ucee4\", \"\\ud654\\uc694\\uc6f9\\ud230\": \"\\ud558\\uc774\\ube0c\", \"\\uc218\\uc694\\uc6f9\\ud230\": \"DEY \\ud638\\ub7ec\\ucc44\\ub110\", \"\\ubaa9\\uc694\\uc6f9\\ud230\": \"\\ub9c8\\uc220\\uc0ac\", \"\\uae08\\uc694\\uc6f9\\ud230\": \"\\uc624\\uc988\\ub79c\\ub4dc\", \"\\ud1a0\\uc694\\uc6f9\\ud230\": \"\\uc720\\ubbf8\\uc758\\uc138\\ud3ec\\ub4e4\", \"\\uc77c\\uc694\\uc6f9\\ud230\": \"\\uc870\\uc120\\uc655\\uc870\\uc2e4\\ud1a1\"}]\n"
     ]
    }
   ],
   "source": [
    "# print(data.json)\n",
    "print(data.export('json'))"
   ]
  },
  {
   "cell_type": "code",
   "execution_count": 38,
   "metadata": {},
   "outputs": [
    {
     "name": "stdout",
     "output_type": "stream",
     "text": [
      "- {\"\\uAE08\\uC694\\uC6F9\\uD230\": \"\\uB374\\uB9C8\", \"\\uBAA9\\uC694\\uC6F9\\uD230\": \"\\uAE30\\uAE30\\\n",
      "    \\uAD34\\uAD34\", \"\\uC218\\uC694\\uC6F9\\uD230\": \"\\uACE0\\uC218\", \"\\uC6D4\\uC694\\uC6F9\\uD230\": \"\\uC2E0\\uC758\\\n",
      "    \\ \\uD0D1\", \"\\uC77C\\uC694\\uC6F9\\uD230\": \"\\uC5F4\\uB7FD\\uC804\\uC0AC\", \"\\uD1A0\\uC694\\uC6F9\\uD230\": \"\\uD638\\uB791\\\n",
      "    \\uC774\\uD615\\uB2D8\", \"\\uD654\\uC694\\uC6F9\\uD230\": \"\\uB9C8\\uC74C\\uC758\\uC18C\\uB9AC\"}\n",
      "- {\"\\uAE08\\uC694\\uC6F9\\uD230\": \"\\uD14C\\uB7EC\\uB9E8\", \"\\uBAA9\\uC694\\uC6F9\\uD230\": \"\\uD558\\uB8E8\\\n",
      "    \\ 3\\uCEF7\", \"\\uC218\\uC694\\uC6F9\\uD230\": \"\\uD37C\\uBBF8\\uC2A4\\uBBF8\\uC158\", \"\\uC6D4\\uC694\\uC6F9\\uD230\": \"\\uADC0\\uC804\\\n",
      "    \\uAD6C\\uB2F4\", \"\\uC77C\\uC694\\uC6F9\\uD230\": \"\\uB2E4\\uC774\\uC2A4\", \"\\uD1A0\\uC694\\uC6F9\\uD230\": \"\\uBD80\\uD65C\\\n",
      "    \\uB0A8\", \"\\uD654\\uC694\\uC6F9\\uD230\": \"\\uB178\\uBE14\\uB808\\uC2A4\"}\n",
      "- {\"\\uAE08\\uC694\\uC6F9\\uD230\": \"\\uC624\\uC988\\uB79C\\uB4DC\", \"\\uBAA9\\uC694\\uC6F9\\uD230\": \"\\uB9C8\\uC220\\\n",
      "    \\uC0AC\", \"\\uC218\\uC694\\uC6F9\\uD230\": \"DEY \\uD638\\uB7EC\\uCC44\\uB110\", \"\\uC6D4\\uC694\\uC6F9\\uD230\": \"\\uD788\\uC5B4\\\n",
      "    \\uB85C\\uBA54\\uC774\\uCEE4\", \"\\uC77C\\uC694\\uC6F9\\uD230\": \"\\uC870\\uC120\\uC655\\uC870\\\n",
      "    \\uC2E4\\uD1A1\", \"\\uD1A0\\uC694\\uC6F9\\uD230\": \"\\uC720\\uBBF8\\uC758\\uC138\\uD3EC\\uB4E4\",\n",
      "  \"\\uD654\\uC694\\uC6F9\\uD230\": \"\\uD558\\uC774\\uBE0C\"}\n",
      "\n"
     ]
    }
   ],
   "source": [
    "print(data.yaml)\n",
    "# print(data.export('yaml'))"
   ]
  }
 ],
 "metadata": {
  "kernelspec": {
   "display_name": "Python 3",
   "language": "python",
   "name": "python3"
  },
  "language_info": {
   "codemirror_mode": {
    "name": "ipython",
    "version": 3
   },
   "file_extension": ".py",
   "mimetype": "text/x-python",
   "name": "python",
   "nbconvert_exporter": "python",
   "pygments_lexer": "ipython3",
   "version": "3.6.5"
  }
 },
 "nbformat": 4,
 "nbformat_minor": 2
}
