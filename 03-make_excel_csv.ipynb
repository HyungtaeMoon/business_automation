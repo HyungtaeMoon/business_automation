{
 "cells": [
  {
   "cell_type": "markdown",
   "metadata": {},
   "source": [
    "## CSV/엑셀 파일 만들기"
   ]
  },
  {
   "cell_type": "markdown",
   "metadata": {},
   "source": [
    "- Plain text 파일로 다양한 인코딩으로 작성이 가능\n",
    "- 즉, 표 형식의 데이터를 Plain Text 로 쉽게 생성이 가능(파일 크기 작음)\n",
    "- 거의 대부분의 프로그래밍 언어나, 데이터분석 프로그램에서 CSV 파일을 지원(Pandas, 엑셀, Github 등)"
   ]
  },
  {
   "cell_type": "code",
   "execution_count": 2,
   "metadata": {},
   "outputs": [],
   "source": [
    "import csv # 파이썬 내장 라이브러리\n",
    "\n",
    "rows = [\n",
    "    ['월요웹툰', '화요웹툰', '수요웹툰', '목요웹툰', '금요웹툰', '토요웹툰', '일요웹툰'],\n",
    "    ['신의 탑', '마음의소리', '고수', '기기괴괴', '덴마', '호랑이형님', '열럽전사'],\n",
    "    ['귀전구담', '노블레스', '퍼미스미션', '하루 3컷', '테러맨', '부활남', '다이스'],\n",
    "    ['히어로메이커', '하이브', 'DEY 호러채널', '마술사', '오즈랜드', '유미의세포들', '조선왕조실톡'],\n",
    "]\n",
    "with open('webtoon.csv', 'wt', encoding='utf8') as f:\n",
    "    writer = csv.writer(f)\n",
    "    writer.writerows(rows) # writerow 는 하나의 column 일때만"
   ]
  },
  {
   "cell_type": "code",
   "execution_count": 3,
   "metadata": {},
   "outputs": [
    {
     "name": "stdout",
     "output_type": "stream",
     "text": [
      "<class '_io.TextIOWrapper'>\n",
      "월요웹툰,화요웹툰,수요웹툰,목요웹툰,금요웹툰,토요웹툰,일요웹툰\n",
      "신의 탑,마음의소리,고수,기기괴괴,덴마,호랑이형님,열럽전사\n",
      "귀전구담,노블레스,퍼미스미션,하루 3컷,테러맨,부활남,다이스\n",
      "히어로메이커,하이브,DEY 호러채널,마술사,오즈랜드,유미의세포들,조선왕조실톡\n",
      "\n"
     ]
    }
   ],
   "source": [
    "with open('webtoon.csv', 'rt', encoding='utf-8') as f:\n",
    "    print(type(f))\n",
    "    print(f.read())"
   ]
  },
  {
   "cell_type": "markdown",
   "metadata": {},
   "source": [
    "## csv.DictWriter"
   ]
  },
  {
   "cell_type": "code",
   "execution_count": 14,
   "metadata": {},
   "outputs": [],
   "source": [
    "import csv\n",
    "\n",
    "with open('webtoon_dictwriter.csv', 'wt', encoding='utf-8') as f:\n",
    "    fieldnames = ['first_name', 'last_name']\n",
    "    writer = csv.DictWriter(f, fieldnames=fieldnames)\n",
    "    \n",
    "    writer.writeheader()\n",
    "    \n",
    "    # 1 Row 일 때\n",
    "    writer.writerow({'first_name': 'Backed', 'last_name': 'Beans'})\n",
    "    \n",
    "    # 다수의 Row 일 때\n",
    "    writer.writerows([\n",
    "        {'first_name': 'Lovely', 'last_name': 'Spam'},\n",
    "        {'first_name': 'wonderful', 'last_name': 'Spam'},\n",
    "    ])"
   ]
  },
  {
   "cell_type": "code",
   "execution_count": 16,
   "metadata": {},
   "outputs": [
    {
     "name": "stdout",
     "output_type": "stream",
     "text": [
      "first_name,last_name\n",
      "Backed,Beans\n",
      "Lovely,Spam\n",
      "wonderful,Spam\n",
      "\n"
     ]
    }
   ],
   "source": [
    "with open('webtoon_dictwriter.csv', 'rt', encoding='utf-8') as f:\n",
    "    print(f.read())"
   ]
  },
  {
   "cell_type": "markdown",
   "metadata": {},
   "source": [
    "## CSV 읽기"
   ]
  },
  {
   "cell_type": "code",
   "execution_count": 22,
   "metadata": {},
   "outputs": [
    {
     "name": "stdout",
     "output_type": "stream",
     "text": [
      "['월요웹툰', '화요웹툰', '수요웹툰', '목요웹툰', '금요웹툰', '토요웹툰', '일요웹툰\\n']\n",
      "['신의 탑', '마음의소리', '고수', '기기괴괴', '덴마', '호랑이형님', '열럽전사\\n']\n",
      "['귀전구담', '노블레스', '퍼미스미션', '하루 3컷', '테러맨', '부활남', '다이스\\n']\n",
      "['히어로메이커', '하이브', 'DEY 호러채널', '마술사', '오즈랜드', '유미의세포들', '조선왕조실톡\\n']\n"
     ]
    }
   ],
   "source": [
    "with open('webtoon.csv', 'rt') as f:\n",
    "    for line in f:\n",
    "        row = line.split(',')\n",
    "        print(row) # list type"
   ]
  },
  {
   "cell_type": "code",
   "execution_count": 24,
   "metadata": {},
   "outputs": [
    {
     "name": "stdout",
     "output_type": "stream",
     "text": [
      "['월요웹툰', '화요웹툰', '수요웹툰', '목요웹툰', '금요웹툰', '토요웹툰', '일요웹툰']\n",
      "['신의 탑', '마음의소리', '고수', '기기괴괴', '덴마', '호랑이형님', '열럽전사']\n",
      "['귀전구담', '노블레스', '퍼미스미션', '하루 3컷', '테러맨', '부활남', '다이스']\n",
      "['히어로메이커', '하이브', 'DEY 호러채널', '마술사', '오즈랜드', '유미의세포들', '조선왕조실톡']\n"
     ]
    }
   ],
   "source": [
    "import csv\n",
    "with open('webtoon.csv', 'rt') as f:\n",
    "    reader = csv.reader(f)\n",
    "    for row in reader:\n",
    "        print(row) # list type"
   ]
  },
  {
   "cell_type": "code",
   "execution_count": 28,
   "metadata": {},
   "outputs": [
    {
     "name": "stdout",
     "output_type": "stream",
     "text": [
      "OrderedDict([('first_name', 'Backed'), ('last_name', 'Beans')])\n",
      "OrderedDict([('first_name', 'Lovely'), ('last_name', 'Spam')])\n",
      "OrderedDict([('first_name', 'wonderful'), ('last_name', 'Spam')])\n"
     ]
    }
   ],
   "source": [
    "import csv\n",
    "\n",
    "with open('webtoon_dictwriter.csv', 'rt', encoding='utf8') as f:\n",
    "    #line = next(f)\n",
    "    #fieldnames = line.split(',')\n",
    "    reader = csv.DictReader(f)  #, fieldnames=fieldnames)\n",
    "    for row in reader:\n",
    "        print(row)  # list type"
   ]
  }
 ],
 "metadata": {
  "kernelspec": {
   "display_name": "Python 3",
   "language": "python",
   "name": "python3"
  },
  "language_info": {
   "codemirror_mode": {
    "name": "ipython",
    "version": 3
   },
   "file_extension": ".py",
   "mimetype": "text/x-python",
   "name": "python",
   "nbconvert_exporter": "python",
   "pygments_lexer": "ipython3",
   "version": "3.6.5"
  }
 },
 "nbformat": 4,
 "nbformat_minor": 2
}
