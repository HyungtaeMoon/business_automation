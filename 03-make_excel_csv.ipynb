{
 "cells": [
  {
   "cell_type": "markdown",
   "metadata": {},
   "source": [
    "## CSV/엑셀 파일 만들기"
   ]
  },
  {
   "cell_type": "markdown",
   "metadata": {},
   "source": [
    "- Plain text 파일로 다양한 인코딩으로 작성이 가능\n",
    "- 즉, 표 형식의 데이터를 Plain Text 로 쉽게 생성이 가능(파일 크기 작음)\n",
    "- 거의 대부분의 프로그래밍 언어나, 데이터분석 프로그램에서 CSV 파일을 지원(Pandas, 엑셀, Github 등)"
   ]
  },
  {
   "cell_type": "code",
   "execution_count": 7,
   "metadata": {},
   "outputs": [],
   "source": [
    "import csv # 파이썬 내장 라이브러리\n",
    "\n",
    "rows = [\n",
    "    ['월요웹툰', '화요웹툰', '수요웹툰', '목요웹툰', '금요웹툰', '토요웹툰', '일요웹툰'],\n",
    "    ['신의 탑', '마음의소리', '고수', '기기괴괴', '덴마', '호랑이형님', '열럽전사'],\n",
    "    ['귀전구담', '노블레스', '퍼미스미션', '하루 3컷', '테러맨', '부활남', '다이스'],\n",
    "    ['히어로메이커', '하이브', 'DEY 호러채널', '마술사', '오즈랜드', '유미의세포들', '조선왕조실톡'],\n",
    "]\n",
    "with open('webtoon.csv', 'wt', encoding='utf8') as f:\n",
    "    writer = csv.writer(f)\n",
    "    writer.writerows(rows)"
   ]
  },
  {
   "cell_type": "code",
   "execution_count": 6,
   "metadata": {},
   "outputs": [
    {
     "name": "stdout",
     "output_type": "stream",
     "text": [
      "<class '_io.TextIOWrapper'>\n",
      "월요웹툰,화요웹툰,수요웹툰,목요웹툰,금요웹툰,토요웹툰,일요웹툰\n",
      "신의 탑,마음의소리,고수,기기괴괴,덴마,호랑이형님,열럽전사\n",
      "귀전구담,노블레스,퍼미스미션,하루 3컷,테러맨,부활남,다이스\n",
      "히어로메이커,하이브,DEY 호러채널,마술사,오즈랜드,유미의세포들,조선왕조실톡\n",
      "\n"
     ]
    }
   ],
   "source": [
    "with open('webtoon.csv', 'rt', encoding='utf-8') as f:\n",
    "    print(type(f))\n",
    "    print(f.read())"
   ]
  },
  {
   "cell_type": "code",
   "execution_count": null,
   "metadata": {},
   "outputs": [],
   "source": []
  }
 ],
 "metadata": {
  "kernelspec": {
   "display_name": "Python 3",
   "language": "python",
   "name": "python3"
  },
  "language_info": {
   "codemirror_mode": {
    "name": "ipython",
    "version": 3
   },
   "file_extension": ".py",
   "mimetype": "text/x-python",
   "name": "python",
   "nbconvert_exporter": "python",
   "pygments_lexer": "ipython3",
   "version": "3.6.5"
  }
 },
 "nbformat": 4,
 "nbformat_minor": 2
}
