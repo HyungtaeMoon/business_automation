{
 "cells": [
  {
   "cell_type": "markdown",
   "metadata": {},
   "source": [
    "## 네이버 개인 Email 로 메일 보내기\n",
    "\n",
    "-----------------------\n",
    "\n",
    "### 네이버 메일 설정\n",
    "\n",
    "- 네이버 메일에서 환경설정 > POP3/SMTP 활성화\n",
    "\n",
    "* 추가) 네이버에서 사용하는 2차 OTP 인증을 사용할 경우에는 에러가 발생하니 유의할 것\n",
    "\n"
   ]
  },
  {
   "cell_type": "markdown",
   "metadata": {},
   "source": [
    "### SMTP protocol\n",
    "\n",
    "[설명 바로가기](https://docs.python.org/2/library/smtplib.html)\n",
    "\n",
    "파이썬에서 내장된 모듈 smtplib 를 사용한다. \n",
    "\n",
    "위 코드에서보면 server.ehlo() 의 ehlo 메서드를 사용하게 되는데 메일을 보낼 때 초기 연결 신호에서 이상이 있는지 없는지를 확인하기 위한 일종의 검수 모듈이 아닌가 라고 생각을 한다."
   ]
  },
  {
   "cell_type": "markdown",
   "metadata": {},
   "source": [
    "\n"
   ]
  },
  {
   "cell_type": "markdown",
   "metadata": {},
   "source": [
    "\n",
    "\n"
   ]
  },
  {
   "cell_type": "markdown",
   "metadata": {},
   "source": [
    "## Plain Text Type 으로 보내기"
   ]
  },
  {
   "cell_type": "code",
   "execution_count": null,
   "metadata": {},
   "outputs": [],
   "source": [
    "import smtplib\n",
    "from email.message import EmailMessage\n",
    "\n",
    "import getpass\n",
    "password = getpass.getpass('Password: ') # 비밀번호 암호화 모듈\n",
    "\n",
    "message = EmailMessage()\n",
    "message['Subject'] = '안녕하세요'\n",
    "message['From'] = 'blessmht@naver.com'\n",
    "message['To'] = 'blessmht@gmail.com' # 복수 지정 가능\n",
    "message.set_content('''이번 한달간 놀라운 할인 혜택을 만나보세요.\n",
    "\n",
    "참여 조건은 일절 없습니다. 그냥 메일만 클릭해보세요.\n",
    "\n",
    "감사합니다.\n",
    "''')\n",
    "\n",
    "with smtplib.SMTP_SSL('smtp.naver.com', 465) as server:\n",
    "    server.ehlo()\n",
    "    server.login('blessmht', password)\n",
    "    server.send_message(message)\n",
    "\n",
    "print('이메일을 발송했습니다')"
   ]
  },
  {
   "cell_type": "markdown",
   "metadata": {},
   "source": [
    "\n",
    "\n"
   ]
  },
  {
   "cell_type": "markdown",
   "metadata": {},
   "source": [
    "\n"
   ]
  },
  {
   "cell_type": "markdown",
   "metadata": {},
   "source": [
    "## HTML 태그를 포함하여 메일 보내기"
   ]
  },
  {
   "cell_type": "code",
   "execution_count": 3,
   "metadata": {},
   "outputs": [
    {
     "name": "stdout",
     "output_type": "stream",
     "text": [
      "Password: ········\n",
      "이메일을 발송했습니다\n"
     ]
    }
   ],
   "source": [
    "import smtplib\n",
    "from email.message import EmailMessage\n",
    "\n",
    "import getpass\n",
    "password = getpass.getpass('Password: ') # 비밀번호 암호화 모듈\n",
    "\n",
    "message = EmailMessage()\n",
    "message['Subject'] = '안녕하세요'\n",
    "message['From'] = 'blessmht@naver.com'\n",
    "message['To'] = 'blessmht@gmail.com' # 복수 지정 가능\n",
    "message.set_content('''이번 한달간 놀라운 할인 혜택을 만나보세요.\n",
    "\n",
    "참여 조건은 일절 없습니다. 그냥 메일만 클릭해보세요.\n",
    "\n",
    "감사합니다.\n",
    "''')\n",
    "\n",
    "message.add_alternative('''\n",
    "    <h1>노올라운 혜택</h1>\n",
    "    \n",
    "    <ul>\n",
    "        <li> 첫번째 싸다</li>\n",
    "        <li> 두번째 빠르다</li>\n",
    "    </ul>\n",
    "\n",
    "''', subtype='html')\n",
    "\n",
    "with smtplib.SMTP_SSL('smtp.naver.com', 465) as server:\n",
    "    server.ehlo()\n",
    "    server.login('blessmht', password)\n",
    "    server.send_message(message)\n",
    "\n",
    "print('이메일을 발송했습니다')"
   ]
  }
 ],
 "metadata": {
  "kernelspec": {
   "display_name": "Python 3",
   "language": "python",
   "name": "python3"
  },
  "language_info": {
   "codemirror_mode": {
    "name": "ipython",
    "version": 3
   },
   "file_extension": ".py",
   "mimetype": "text/x-python",
   "name": "python",
   "nbconvert_exporter": "python",
   "pygments_lexer": "ipython3",
   "version": "3.6.5"
  }
 },
 "nbformat": 4,
 "nbformat_minor": 2
}
