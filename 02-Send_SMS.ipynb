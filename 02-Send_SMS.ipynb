{
 "cells": [
  {
   "cell_type": "markdown",
   "metadata": {},
   "source": [
    "## SMS 보내기(카페 24)"
   ]
  },
  {
   "cell_type": "markdown",
   "metadata": {},
   "source": [
    "카페 24에서는 PHP/ASP/JSP 샘플만 제공된다. 이를 파이썬 코드로 porting 해서 사용해야 함"
   ]
  },
  {
   "cell_type": "markdown",
   "metadata": {},
   "source": [
    "### 문자열 바이트 수\n",
    "\n",
    "- 유니코드 문자열에서는 글자수를 카운트한다\n",
    "\n",
    "- 특정 인코딩 문자열에서는 바이트 수(ex) euckr, utf8"
   ]
  },
  {
   "cell_type": "code",
   "execution_count": 1,
   "metadata": {},
   "outputs": [
    {
     "name": "stdout",
     "output_type": "stream",
     "text": [
      "2\n"
     ]
    }
   ],
   "source": [
    "print(len('한글'))"
   ]
  },
  {
   "cell_type": "code",
   "execution_count": 2,
   "metadata": {},
   "outputs": [
    {
     "name": "stdout",
     "output_type": "stream",
     "text": [
      "4\n"
     ]
    }
   ],
   "source": [
    "# len('<문자열>'.encode('형식'))\n",
    "print(len('한글'.encode('euckr')))\n"
   ]
  },
  {
   "cell_type": "code",
   "execution_count": 3,
   "metadata": {},
   "outputs": [
    {
     "name": "stdout",
     "output_type": "stream",
     "text": [
      "6\n"
     ]
    }
   ],
   "source": [
    "print(len('한글'.encode('utf8')))"
   ]
  },
  {
   "cell_type": "markdown",
   "metadata": {},
   "source": [
    "### 특정 인코딩의 문자열 자르기"
   ]
  },
  {
   "cell_type": "markdown",
   "metadata": {},
   "source": [
    "**인코딩과 디코딩 하기**"
   ]
  },
  {
   "cell_type": "code",
   "execution_count": 4,
   "metadata": {},
   "outputs": [
    {
     "name": "stdout",
     "output_type": "stream",
     "text": [
      "b'\\xbe\\xc8\\xb3\\xe7\\xc7\\xcf\\xbc\\xbc\\xbf\\xe4. \\xc1\\xc1\\xc0\\xba \\xbe\\xc6\\xc4\\xa7\\xc0\\xd4\\xb4\\xcf\\xb4\\xd9'\n"
     ]
    }
   ],
   "source": [
    "s = '안녕하세요. 좋은 아침입니다'\n",
    "\n",
    "result = s.encode('euckr') # euckr 로 인코딩\n",
    "print(result)"
   ]
  },
  {
   "cell_type": "code",
   "execution_count": 5,
   "metadata": {},
   "outputs": [
    {
     "data": {
      "text/plain": [
       "'안녕하세요. 좋은 아침입니다'"
      ]
     },
     "execution_count": 5,
     "metadata": {},
     "output_type": "execute_result"
    }
   ],
   "source": [
    "# 인코딩을 euckr 로 했다면 디코딩도 euckr로 해야 에러가 발생하지 않는다\n",
    "result.decode('euckr')\n",
    "\n",
    "# result.decode('utf-8') # 이 코드는 에러 발생"
   ]
  },
  {
   "cell_type": "markdown",
   "metadata": {},
   "source": [
    "\n",
    "\n"
   ]
  },
  {
   "cell_type": "markdown",
   "metadata": {},
   "source": [
    "**`ignore` 옵션을 사용하면 str 을 슬라이싱해도 에러가 발생하지 않는다.**\n"
   ]
  },
  {
   "cell_type": "code",
   "execution_count": 6,
   "metadata": {},
   "outputs": [
    {
     "data": {
      "text/plain": [
       "b'.  \\xc4\\xa7\\xd4\\xb4\\xcf\\xb4'"
      ]
     },
     "execution_count": 6,
     "metadata": {},
     "output_type": "execute_result"
    }
   ],
   "source": [
    "result = s.encode('euckr')[8:]\n",
    "\n",
    "result.decode('utf-8', 'ignore').encode('utf-8')"
   ]
  },
  {
   "cell_type": "markdown",
   "metadata": {},
   "source": [
    "\n",
    "\n"
   ]
  },
  {
   "cell_type": "markdown",
   "metadata": {},
   "source": [
    "\n"
   ]
  },
  {
   "cell_type": "markdown",
   "metadata": {},
   "source": [
    "## SMS 잔여건수 조회하기"
   ]
  },
  {
   "cell_type": "markdown",
   "metadata": {},
   "source": [
    "**php코드**\n",
    "\n",
    "```php\n",
    "$sms_url = \"http://sslsms.cafe24.com/sms_remain.php\"; // 전송요청 URL\n",
    "$sms['user_id'] = base64_encode(\"<SMS 아이디>\"); // SMS 아이디\n",
    "$sms['secure'] = base64_encode(\"<secure Key>\") ;//인증키   \n",
    "$sms['mode'] = base64_encode(\"1\"); // base64 사용시 반드시 모드값을 1로 주셔야 합니다.\n",
    "```"
   ]
  },
  {
   "cell_type": "code",
   "execution_count": 7,
   "metadata": {},
   "outputs": [],
   "source": [
    "from base64 import b64encode"
   ]
  },
  {
   "cell_type": "code",
   "execution_count": 8,
   "metadata": {},
   "outputs": [],
   "source": [
    "url = \"http://sslsms.cafe24.com/sms_remain.php\"\n",
    "user_id = b64encode(\"<user_id>\".encode('euckr')) # 아이디\n",
    "secure = b64encode(\"<secure key>\".encode('euckr')) # 인증키\n",
    "mode = b64encode(\"1\".encode('euckr')) # base64 사용시 반드시 모드값을 1로 주셔야 합니다."
   ]
  },
  {
   "cell_type": "code",
   "execution_count": 12,
   "metadata": {},
   "outputs": [],
   "source": [
    "import requests"
   ]
  },
  {
   "cell_type": "code",
   "execution_count": 13,
   "metadata": {},
   "outputs": [],
   "source": [
    "response = requests.post(url, data={\n",
    "    'user_id': user_id,\n",
    "    'secure': secure,\n",
    "    'mode': mode,\n",
    "})"
   ]
  },
  {
   "cell_type": "code",
   "execution_count": 14,
   "metadata": {},
   "outputs": [
    {
     "data": {
      "text/plain": [
       "'298'"
      ]
     },
     "execution_count": 14,
     "metadata": {},
     "output_type": "execute_result"
    }
   ],
   "source": [
    "response.text # SMS 남은 잔여 건수"
   ]
  },
  {
   "cell_type": "markdown",
   "metadata": {},
   "source": [
    "\n"
   ]
  },
  {
   "cell_type": "markdown",
   "metadata": {},
   "source": [
    "\n"
   ]
  },
  {
   "cell_type": "markdown",
   "metadata": {},
   "source": [
    "## 문자 발송 요청"
   ]
  },
  {
   "cell_type": "code",
   "execution_count": 15,
   "metadata": {},
   "outputs": [],
   "source": [
    "params = {\n",
    "    'user_id': '<user_id>',\n",
    "    'secure': '<secure key>',\n",
    "    'mode': '1',\n",
    "    'sphone1': '<010>',\n",
    "    'sphone2': '<가운데 번호>',\n",
    "    'sphone3': '<뒤 4자리>',\n",
    "    'rphone': '<수신번호>', # 받는 사람\n",
    "    'msg': '<메시지>'\n",
    "}\n",
    "\n",
    "data = {}\n",
    "for key, value in params.items():\n",
    "    if isinstance(value, str):\n",
    "        value = value.encode('euckr')\n",
    "        if key == 'msg': # 90바이트까지 인코딩하여 발송하는 설정 부분\n",
    "            value = value[:90].decode('euckr', 'ignore').encode('euckr')\n",
    "        data[key] = value"
   ]
  },
  {
   "cell_type": "code",
   "execution_count": 16,
   "metadata": {},
   "outputs": [],
   "source": [
    "response = requests.post(\"http://sslsms.cafe24.com/sms_sender.php\", data=data)"
   ]
  },
  {
   "cell_type": "code",
   "execution_count": 17,
   "metadata": {},
   "outputs": [
    {
     "data": {
      "text/plain": [
       "'success,297'"
      ]
     },
     "execution_count": 17,
     "metadata": {},
     "output_type": "execute_result"
    }
   ],
   "source": [
    "response.text"
   ]
  },
  {
   "cell_type": "markdown",
   "metadata": {},
   "source": [
    "## 코드 리팩토링하기"
   ]
  },
  {
   "cell_type": "code",
   "execution_count": 18,
   "metadata": {},
   "outputs": [],
   "source": [
    "def send_sms(user_id, secure, sender, receivers, message):\n",
    "    params = {\n",
    "        'user_id': user_id,\n",
    "        'secure': secure,\n",
    "        'mode': '1',\n",
    "        'sphone1': sender[:3],\n",
    "        'sphone2': sender[3:-4],\n",
    "        'sphone3': sender[-4:],\n",
    "        'rphone': ','.join(receivers), # 받는 사람\n",
    "        'msg': message,\n",
    "    }\n",
    "\n",
    "    data = {}\n",
    "    for key, value in params.items():\n",
    "        if isinstance(value, str):\n",
    "            value = value.encode('euckr')\n",
    "            if key == 'msg': # 90바이트까지 인코딩하여 발송하는 설정 부분\n",
    "                value = value[:90].decode('euckr', 'ignore').encode('euckr')\n",
    "            data[key] = value\n",
    "            \n",
    "    response = requests.post(\"http://sslsms.cafe24.com/sms_sender.php\", data=data)\n",
    "    response.text"
   ]
  },
  {
   "cell_type": "code",
   "execution_count": 19,
   "metadata": {},
   "outputs": [],
   "source": [
    "user_id = '<user_id>'\n",
    "secure = '<secure key>'\n",
    "sender = '<발신번호>'\n",
    "receiver = ['<수신번호>', '<수신번호>']\n",
    "message = '<메시지>'\n",
    "\n",
    "send_sms(user_id, secure, sender, receiver, message)"
   ]
  },
  {
   "cell_type": "code",
   "execution_count": null,
   "metadata": {},
   "outputs": [],
   "source": []
  }
 ],
 "metadata": {
  "kernelspec": {
   "display_name": "Python 3",
   "language": "python",
   "name": "python3"
  },
  "language_info": {
   "codemirror_mode": {
    "name": "ipython",
    "version": 3
   },
   "file_extension": ".py",
   "mimetype": "text/x-python",
   "name": "python",
   "nbconvert_exporter": "python",
   "pygments_lexer": "ipython3",
   "version": "3.6.5"
  }
 },
 "nbformat": 4,
 "nbformat_minor": 2
}
